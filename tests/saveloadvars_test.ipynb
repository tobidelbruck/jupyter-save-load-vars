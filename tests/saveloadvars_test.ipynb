{
 "cells": [
  {
   "cell_type": "code",
   "execution_count": 3,
   "id": "5706ef0db33d362d",
   "metadata": {
    "collapsed": true,
    "ExecuteTime": {
     "end_time": "2023-10-03T14:48:26.992461753Z",
     "start_time": "2023-10-03T14:48:26.950726067Z"
    }
   },
   "outputs": [
    {
     "name": "stdout",
     "output_type": "stream",
     "text": [
      "[1, [2, 3], 'string', <generator object <genexpr> at 0x7f9ae653d6d0>, <__main__.MyClass object at 0x7f9ae6535d00>]\n"
     ]
    }
   ],
   "source": [
    "# some simple tests of saveloadvars in a notebook\n",
    "from saveloadvars import savevars,loadvars\n",
    "a=1\n",
    "b=[2,3]\n",
    "c='string'\n",
    "o=(i for i in []) # make generator that cannot be pickled\n",
    "# create class\n",
    "class MyClass:\n",
    "    name = \"\"\n",
    "    l=[1,2,3]\n",
    "cl = MyClass() # create object with this class\n",
    "print([a,b,c,o,cl])"
   ]
  },
  {
   "cell_type": "code",
   "execution_count": 4,
   "outputs": [
    {
     "name": "stderr",
     "output_type": "stream",
     "text": [
      "\u001B[0;36m[INFO]: 2023-10-03 16:48:30,041 - saveloadvars - saved to testvars.dill variables [ In Out a b c cl ] (File \"/home/tobi/Dropbox/GitHub/tobidelbruck/saveloadvars/saveloadvars.py\", line 131, in savevars)\u001B[0m\n",
      "\u001B[31;21m[WARNING]: 2023-10-03 16:48:30,043 - saveloadvars - could not pickle: ['o'] (File \"/home/tobi/Dropbox/GitHub/tobidelbruck/saveloadvars/saveloadvars.py\", line 133, in savevars)\u001B[0m\n"
     ]
    }
   ],
   "source": [
    "savevars('testvars')"
   ],
   "metadata": {
    "collapsed": false,
    "ExecuteTime": {
     "end_time": "2023-10-03T14:48:30.048734643Z",
     "start_time": "2023-10-03T14:48:30.042594567Z"
    }
   },
   "id": "25fa82d612e475b3"
  },
  {
   "cell_type": "code",
   "execution_count": 5,
   "outputs": [
    {
     "name": "stderr",
     "output_type": "stream",
     "text": [
      "\u001B[0;36m[INFO]: 2023-10-03 16:48:37,166 - saveloadvars - from testvars.dill loaded variables ['In', 'Out', 'a', 'b', 'c', 'cl'] (File \"/home/tobi/Dropbox/GitHub/tobidelbruck/saveloadvars/saveloadvars.py\", line 162, in loadvars)\u001B[0m\n",
      "\u001B[0;36m[INFO]: 2023-10-03 16:48:37,168 - saveloadvars - did not overwrite existing variables ['In', 'Out', 'a', 'cl'] (File \"/home/tobi/Dropbox/GitHub/tobidelbruck/saveloadvars/saveloadvars.py\", line 198, in loadvars)\u001B[0m\n"
     ]
    }
   ],
   "source": [
    "del b,c\n",
    "loadvars('testvars',overwrite='no')"
   ],
   "metadata": {
    "collapsed": false,
    "ExecuteTime": {
     "end_time": "2023-10-03T14:48:37.177889015Z",
     "start_time": "2023-10-03T14:48:37.169937178Z"
    }
   },
   "id": "d0566c20ec30627"
  },
  {
   "cell_type": "code",
   "execution_count": 6,
   "outputs": [
    {
     "name": "stderr",
     "output_type": "stream",
     "text": [
      "\u001B[0;36m[INFO]: 2023-10-03 16:48:42,176 - saveloadvars - from testvars.dill loaded variables ['In', 'Out', 'a', 'b', 'c', 'cl'] (File \"/home/tobi/Dropbox/GitHub/tobidelbruck/saveloadvars/saveloadvars.py\", line 162, in loadvars)\u001B[0m\n",
      "\u001B[0;36m[INFO]: 2023-10-03 16:48:42,177 - saveloadvars - overwrote existing variables ['In', 'Out', 'a', 'b', 'c', 'cl'] (File \"/home/tobi/Dropbox/GitHub/tobidelbruck/saveloadvars/saveloadvars.py\", line 196, in loadvars)\u001B[0m\n"
     ]
    }
   ],
   "source": [
    "loadvars('testvars',overwrite='yes')"
   ],
   "metadata": {
    "collapsed": false,
    "ExecuteTime": {
     "end_time": "2023-10-03T14:48:42.185482038Z",
     "start_time": "2023-10-03T14:48:42.177028169Z"
    }
   },
   "id": "29e0dc1e16dfbceb"
  },
  {
   "cell_type": "code",
   "execution_count": 8,
   "outputs": [
    {
     "name": "stderr",
     "output_type": "stream",
     "text": [
      "\u001B[0;36m[INFO]: 2023-10-03 16:49:04,720 - saveloadvars - from testvars.dill loaded variables ['In', 'Out', 'a', 'b', 'c', 'cl'] (File \"/home/tobi/Dropbox/GitHub/tobidelbruck/saveloadvars/saveloadvars.py\", line 162, in loadvars)\u001B[0m\n",
      "\u001B[0;36m[INFO]: 2023-10-03 16:49:08,628 - saveloadvars - overwrote existing variables ['In', 'Out', 'b', 'c', 'cl'] (File \"/home/tobi/Dropbox/GitHub/tobidelbruck/saveloadvars/saveloadvars.py\", line 196, in loadvars)\u001B[0m\n"
     ]
    }
   ],
   "source": [
    "del a\n",
    "loadvars('testvars',overwrite='prompt')"
   ],
   "metadata": {
    "collapsed": false,
    "ExecuteTime": {
     "end_time": "2023-10-03T14:49:08.643707653Z",
     "start_time": "2023-10-03T14:49:04.722401484Z"
    }
   },
   "id": "initial_id"
  }
 ],
 "metadata": {
  "kernelspec": {
   "display_name": "Python 3",
   "language": "python",
   "name": "python3"
  },
  "language_info": {
   "codemirror_mode": {
    "name": "ipython",
    "version": 2
   },
   "file_extension": ".py",
   "mimetype": "text/x-python",
   "name": "python",
   "nbconvert_exporter": "python",
   "pygments_lexer": "ipython2",
   "version": "2.7.6"
  }
 },
 "nbformat": 4,
 "nbformat_minor": 5
}
